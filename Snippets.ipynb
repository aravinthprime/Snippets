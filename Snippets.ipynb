{
  "cells": [
    {
      "cell_type": "markdown",
      "source": [
        "#Snippets"
      ],
      "metadata": {
        "id": "zPnJXJlRpq9K"
      },
      "id": "zPnJXJlRpq9K"
    },
    {
      "cell_type": "code",
      "metadata": {
        "colab": {
          "base_uri": "https://localhost:8080/"
        },
        "id": "yZS335TwkQlz",
        "outputId": "8be38cce-8f7d-468a-8c26-cfa3e778e55f"
      },
      "source": [
        "# Finding the given number is even or not:\n",
        "\n",
        "y = int(input(\"Enter number : \"))\n",
        "\n",
        "# The suntax for the if and else statement is the identation.\n",
        "\n",
        "# unlike c and c++ no braces are required and identation is compulsory.\n",
        "\n",
        "if y%2 == 0:\n",
        "\n",
        "# print function prints the statement\n",
        "\n",
        "# {} is used where the element y value should be placed\n",
        "\n",
        "# .format is used to address the variable name\n",
        "\n",
        "    print(\"{} is even\".format(y))\n",
        "\n",
        "else:\n",
        "\n",
        "    print(\"{} is odd\".format(y))\n"
      ],
      "execution_count": null,
      "outputs": [
        {
          "output_type": "stream",
          "name": "stdout",
          "text": [
            "Enter number : 50\n",
            "50 is even\n"
          ]
        }
      ],
      "id": "yZS335TwkQlz"
    },
    {
      "cell_type": "code",
      "source": [
        "mydict ={\"key1\":\"10\",\"key2\":\"20\"}\n",
        "print(mydict[\"key1\"])\n",
        "a=mydict[\"key1\"]\n",
        "print(a)\n",
        "print(int(mydict[\"key1\"])+int(mydict[\"key2\"]))\n",
        "print(mydict.keys())\n",
        "print(mydict.pop(\"key1\"))\n",
        "my={\"key3\":50,\"key4\":\"70\"}\n",
        "mydict.update(my)\n",
        "print(mydict)\n",
        "\n",
        "print(mydict.__len__())\n",
        "\n",
        "\n",
        "d={\"keys\":{\"1\":\"100\",\"2\":{\"100\":\"200\"},\"3\":\"300\"}}\n",
        "print(d[\"keys\"][\"1\"])\n",
        "a=d[\"keys\"][\"2\"][\"100\"]\n",
        "print(a)\n",
        "\n",
        "a=int(a)*5\n",
        "print(a)"
      ],
      "metadata": {
        "colab": {
          "base_uri": "https://localhost:8080/"
        },
        "id": "wJYY51xhqRrf",
        "outputId": "d9caec4a-5e4e-4a34-b88f-843cb2157878"
      },
      "id": "wJYY51xhqRrf",
      "execution_count": 1,
      "outputs": [
        {
          "output_type": "stream",
          "name": "stdout",
          "text": [
            "10\n",
            "10\n",
            "30\n",
            "dict_keys(['key1', 'key2'])\n",
            "10\n",
            "{'key2': '20', 'key3': 50, 'key4': '70'}\n",
            "3\n",
            "100\n",
            "200\n",
            "1000\n"
          ]
        }
      ]
    },
    {
      "cell_type": "code",
      "metadata": {
        "colab": {
          "base_uri": "https://localhost:8080/"
        },
        "id": "kO5Tr6eHmSPI",
        "outputId": "4e4f4882-0159-49b2-efef-8e513fa14862"
      },
      "source": [
        "score_theory = int(input(\"score_theory : \"))\n",
        "\n",
        "score_practical = int(input(\"score_practical : \"))\n",
        "\n",
        "if score_theory > 50:\n",
        "\n",
        "    print(\"Please check the input score in theory\")\n",
        "\n",
        "# elif statement in python works like else if statement in c\n",
        "\n",
        "# the condition statement is compulsory if elif is used\n",
        "\n",
        "elif score_practical > 50:\n",
        "\n",
        "    print(\"Please check the input score in practical\")\n",
        "\n",
        "else:\n",
        "\n",
        "    print(\"Score validated for Science. Your total is: \",score_theory + score_practical)"
      ],
      "execution_count": null,
      "outputs": [
        {
          "output_type": "stream",
          "name": "stdout",
          "text": [
            "score_theory : 45\n",
            "score_practical : 45\n",
            "Score validated for Science. Your total is:  90\n"
          ]
        }
      ],
      "id": "kO5Tr6eHmSPI"
    },
    {
      "cell_type": "code",
      "metadata": {
        "colab": {
          "base_uri": "https://localhost:8080/"
        },
        "id": "k4h2BK05mxIO",
        "outputId": "fd48305f-152f-4ab2-a09a-2ea85f7658de"
      },
      "source": [
        "range_1 = input(\"Enter string : \")\n",
        "\n",
        "# The range based for loop uses the function range\n",
        "\n",
        "# The function range takes the arguments start \n",
        "\n",
        "for i in range(0,len(range_1),2):\n",
        "\n",
        "    print(range_1[i])\n",
        "\n",
        "    print(\"odd characters in the string :\",range_1)\n",
        "\n",
        "for i in range(1, len(range_1), 2):\n",
        "\n",
        "     print(range_1[i])"
      ],
      "execution_count": null,
      "outputs": [
        {
          "output_type": "stream",
          "name": "stdout",
          "text": [
            "Enter string : arun\n",
            "a\n",
            "odd characters in the string : arun\n",
            "u\n",
            "odd characters in the string : arun\n",
            "r\n",
            "n\n"
          ]
        }
      ],
      "id": "k4h2BK05mxIO"
    },
    {
      "cell_type": "code",
      "metadata": {
        "colab": {
          "base_uri": "https://localhost:8080/"
        },
        "id": "fMxIbVd9ptsm",
        "outputId": "594ee55b-92b0-4a66-873a-f5f3fec5e031"
      },
      "source": [
        "available_exits =['east', 'west', 'north', 'south']\n",
        "\n",
        "chosen_exits = ''\n",
        "\n",
        "# while will be executed until the chosen direction is in available exits\n",
        "\n",
        "# if both are same then the while loop terminates\n",
        "\n",
        "# if the chosen exit is quit then the loop terminates\n",
        "\n",
        "while chosen_exits not in available_exits:\n",
        "\n",
        "    chosen_exits = input(\"choose direction : \")\n",
        "\n",
        "    if chosen_exits == 'quit' :\n",
        "\n",
        "         print('quit')\n",
        "\n",
        "         break # breaks the while loop\n",
        "print(chosen_exits)\n"
      ],
      "execution_count": null,
      "outputs": [
        {
          "output_type": "stream",
          "name": "stdout",
          "text": [
            "choose direction : exit\n",
            "choose direction : quit\n",
            "quit\n",
            "quit\n"
          ]
        }
      ],
      "id": "fMxIbVd9ptsm"
    },
    {
      "cell_type": "code",
      "metadata": {
        "colab": {
          "base_uri": "https://localhost:8080/"
        },
        "id": "NSRCa21BraDX",
        "outputId": "5dec9161-48dc-4e21-e82c-d710bdfb0f24"
      },
      "source": [
        "computer_parts = ['computer', 'monitor', 'keyboard', 'mouse']\n",
        "\n",
        "for parts in computer_parts :\n",
        "\n",
        "    print(parts)\n",
        "\n",
        "print(computer_parts[2]) # print the 3 rd element in the list\n",
        "\n",
        "print(computer_parts[:3]) # print the list from indices 0 to 3\n",
        "\n",
        "print(computer_parts[-1]) # print the last element in the list\n",
        "\n",
        "print(len(computer_parts)) # print the number of elements in the list\n",
        "\n",
        "print(computer_parts) # print the list"
      ],
      "execution_count": null,
      "outputs": [
        {
          "output_type": "stream",
          "name": "stdout",
          "text": [
            "computer\n",
            "monitor\n",
            "keyboard\n",
            "mouse\n",
            "keyboard\n",
            "['computer', 'monitor', 'keyboard']\n",
            "mouse\n",
            "4\n",
            "['computer', 'monitor', 'keyboard', 'mouse']\n"
          ]
        }
      ],
      "id": "NSRCa21BraDX"
    },
    {
      "cell_type": "markdown",
      "source": [
        "#Palindrome\n"
      ],
      "metadata": {
        "id": "2M_2596Nnymf"
      },
      "id": "2M_2596Nnymf"
    },
    {
      "cell_type": "code",
      "source": [
        "def is_palindrome(string):\n",
        "    backwards = string[::-1]\n",
        "    #return backwards == string\n",
        "    return string[::-1].casefold() == string.casefold()\n",
        "\n",
        "\n",
        "def palindrome_sentence(sentence):\n",
        "    string = \"\"\n",
        "    for char in sentence:\n",
        "        if char.isalnum():\n",
        "            string += char\n",
        "    print(string)\n",
        "    return string[::-1].casefold() == string.casefold()\n",
        "    #return is_palindrome(string)\n",
        "\n",
        "\n",
        "\n",
        "\n",
        "\n",
        "word = input(\"Please enter a word to check: \")\n",
        "if palindrome_sentence(word):\n",
        "    print(\"'{}' is a palindrome\".format(word))\n",
        "else:\n",
        "    print(\"'{}' is not a palindrome\".format(word))"
      ],
      "metadata": {
        "id": "R8twVZlYnzWy"
      },
      "id": "R8twVZlYnzWy",
      "execution_count": null,
      "outputs": []
    },
    {
      "cell_type": "markdown",
      "source": [
        "#gussing game"
      ],
      "metadata": {
        "id": "5OQRT8GjpAQc"
      },
      "id": "5OQRT8GjpAQc"
    },
    {
      "cell_type": "code",
      "source": [
        "import random\n",
        "\n",
        "\n",
        "def get_integer(prompt):\n",
        "    \"\"\"\n",
        "    Get an integer from Standard Input (stdin).\n",
        "\n",
        "    The function will continue looping, and prompting\n",
        "    the user, until a valid `int` is entered.\n",
        "\n",
        "    :param prompt: The String that the user will see, when\n",
        "        they're prompted to enter the value.\n",
        "    :return: The integer that the user enters.\n",
        "    \"\"\"\n",
        "    while True:\n",
        "        temp = input(prompt)\n",
        "        if temp.isnumeric():\n",
        "            return int(temp)\n",
        "        else:\n",
        "            print(\"{0} is not a valid number\".format(temp))\n",
        "\n",
        "\n",
        "help(get_integer)\n",
        "\n",
        "highest = 1000\n",
        "answer = random.randint(1, highest)\n",
        "print(answer)   # TODO: Remove after testing\n",
        "guess = 0 # initialise to any number that doesn't equal the answer\n",
        "print(\"Please guess number between 1 and {}: \".format(highest))\n",
        "\n",
        "while guess != answer:\n",
        "    guess = get_integer(\": \")\n",
        "\n",
        "    if guess == 0:\n",
        "        break\n",
        "    if guess == answer:\n",
        "        print(\"Well done, you guessed it\")\n",
        "        break\n",
        "    else:\n",
        "        if guess < answer:\n",
        "            print(\"Please guess higher\")\n",
        "        else:   # guess must be greater than answer\n",
        "            print(\"Please guess lower\")"
      ],
      "metadata": {
        "id": "naa5rf8Qo_5H"
      },
      "id": "naa5rf8Qo_5H",
      "execution_count": null,
      "outputs": []
    },
    {
      "cell_type": "markdown",
      "source": [
        "#Compound Intrest"
      ],
      "metadata": {
        "id": "T0sjd4GIslM1"
      },
      "id": "T0sjd4GIslM1"
    },
    {
      "cell_type": "code",
      "source": [
        "def com(p,n,r,t):\n",
        "        ci=p*((1+(r/100)/t)**n*t)\n",
        "        return ci\n",
        "    \n",
        "p=10000.0\n",
        "n=30.0\n",
        "r=10.0\n",
        "t=2.0\n",
        "com(p,n,r,t)\n",
        "p_c=2\n",
        "p_i=4\n",
        "\n",
        "def rec(p,r,n,p_c,p_i):\n",
        "    no=int(n*12/(p_i))\n",
        "    c=no\n",
        "    tot=0.0\n",
        "    for i in range(no):\n",
        "        ma=com(p,n,r,2)\n",
        "        tot+=ma\n",
        "        c-=1\n",
        "    return tot\n",
        "a=rec(p,r,n,p_c,p_i)\n",
        "a"
      ],
      "metadata": {
        "id": "BnNG8zCgppEG"
      },
      "id": "BnNG8zCgppEG",
      "execution_count": null,
      "outputs": []
    },
    {
      "cell_type": "code",
      "source": [],
      "metadata": {
        "id": "p19-ps74pqiJ"
      },
      "id": "p19-ps74pqiJ",
      "execution_count": null,
      "outputs": []
    },
    {
      "cell_type": "code",
      "execution_count": null,
      "id": "8db9b0b4",
      "metadata": {
        "id": "8db9b0b4"
      },
      "outputs": [],
      "source": [
        "def viterbi(obs, states, start_p, trans_p, emit_p):\n",
        "    V = [{}]\n",
        "    for st in states:\n",
        "        V[0] [st] = {\"prob\": start_p[st] * emit_p[st] [obs[0]], \"prev\": None}\n",
        "    # Run Viterbi when t > 0\n",
        "    for t in range(1, len(obs)):\n",
        "        V.append({})\n",
        "        for st in states:\n",
        "            max_tr_prob = V[t - 1] [states[0]] [\"prob\"] * trans_p[states[0]] [st]\n",
        "            prev_st_selected = states[0]\n",
        "            for prev_st in states[1:]:\n",
        "                tr_prob = V[t - 1] [prev_st] [\"prob\"] * trans_p[prev_st] [st]\n",
        "                if tr_prob > max_tr_prob:\n",
        "                    max_tr_prob = tr_prob\n",
        "                    prev_st_selected = prev_st\n",
        "\n",
        "            max_prob = max_tr_prob * emit_p[st] [obs[t]]\n",
        "            V[t] [st] = {\"prob\": max_prob, \"prev\": prev_st_selected}\n",
        "\n",
        "    for line in dptable(V):\n",
        "        print(line)\n",
        "\n",
        "    opt = []\n",
        "    max_prob = 0.0\n",
        "    best_st = None\n",
        "    # Get most probable state and its backtrack\n",
        "    for st, data in V[-1].items():\n",
        "        if data[\"prob\"] > max_prob:\n",
        "            max_prob = data[\"prob\"]\n",
        "            best_st = st\n",
        "    opt.append(best_st)\n",
        "    previous = best_st\n",
        "\n",
        "    # Follow the backtrack till the first observation\n",
        "    for t in range(len(V) - 2, -1, -1):\n",
        "        opt.insert(0, V[t + 1] [previous] [\"prev\"])\n",
        "        previous = V[t + 1] [previous] [\"prev\"]\n",
        "\n",
        "    print (\"The steps of states are \" + \" \".join(opt) + \" with highest probability of %s\" % max_prob)\n",
        "\n",
        "def dptable(V):\n",
        "    # Print a table of steps from dictionary\n",
        "    yield \" \" * 5 + \"     \".join((\"%3d\" % i) for i in range(len(V)))\n",
        "    for state in V[0]:\n",
        "        yield \"%.7s: \" % state + \" \".join(\"%.7s\" % (\"%lf\" % v[state] [\"prob\"]) for v in V)"
      ]
    },
    {
      "cell_type": "code",
      "execution_count": null,
      "id": "523c8011",
      "metadata": {
        "id": "523c8011",
        "outputId": "afa15bf0-c671-4db3-a54c-46e2b7329632"
      },
      "outputs": [
        {
          "name": "stdout",
          "output_type": "stream",
          "text": [
            "       0       1       2\n",
            "Healthy: 0.30000 0.08400 0.00588\n",
            "Fever: 0.04000 0.02700 0.01512\n",
            "The steps of states are Healthy Healthy Fever with highest probability of 0.01512\n"
          ]
        }
      ],
      "source": [
        "obs = ('normal', 'cold', 'dizzy')\n",
        "states = ('Healthy', 'Fever')\n",
        "start_p = {'Healthy': 0.6, 'Fever': 0.4}\n",
        "trans_p = {\n",
        " 'Healthy' : {'Healthy': 0.7, 'Fever': 0.3},\n",
        " 'Fever' : {'Healthy': 0.4, 'Fever': 0.6}\n",
        " }\n",
        "emit_p = {\n",
        " 'Healthy' : {'normal': 0.5, 'cold': 0.4, 'dizzy': 0.1},\n",
        " 'Fever' : {'normal': 0.1, 'cold': 0.3, 'dizzy': 0.6}\n",
        " }\n",
        "viterbi(obs,states,start_p,trans_p,emit_p)"
      ]
    },
    {
      "cell_type": "code",
      "execution_count": null,
      "id": "7e27fa1c",
      "metadata": {
        "id": "7e27fa1c"
      },
      "outputs": [],
      "source": []
    },
    {
      "cell_type": "markdown",
      "source": [
        "# Viterby Algorithm\n"
      ],
      "metadata": {
        "id": "TlNbl5_JzHM-"
      },
      "id": "TlNbl5_JzHM-"
    },
    {
      "cell_type": "code",
      "source": [
        "obs = (\"normal\", \"cold\", \"dizzy\")\n",
        "states = (\"Healthy\", \"Fever\")\n",
        "start_p = {\"Healthy\": 0.6, \"Fever\": 0.4}\n",
        "trans_p = {\n",
        "    \"Healthy\": {\"Healthy\": 0.7, \"Fever\": 0.3},\n",
        "    \"Fever\": {\"Healthy\": 0.4, \"Fever\": 0.6},\n",
        "}\n",
        "emit_p = {\n",
        "    \"Healthy\": {\"normal\": 0.5, \"cold\": 0.4, \"dizzy\": 0.1},\n",
        "    \"Fever\": {\"normal\": 0.1, \"cold\": 0.3, \"dizzy\": 0.6},\n",
        "}"
      ],
      "metadata": {
        "id": "fJrudNVuzV9N"
      },
      "execution_count": null,
      "outputs": [],
      "id": "fJrudNVuzV9N"
    },
    {
      "cell_type": "code",
      "execution_count": null,
      "metadata": {
        "id": "igbK5AZ4y1V8"
      },
      "outputs": [],
      "source": [
        "def viterbi(obs, states, start_p, trans_p, emit_p):\n",
        "    V = [{}]\n",
        "    for st in states:\n",
        "        V[0] [st] = {\"prob\": start_p[st] * emit_p[st] [obs[0]], \"prev\": None}\n",
        "    # Run Viterbi when t > 0\n",
        "    for t in range(1, len(obs)):\n",
        "        V.append({})\n",
        "        for st in states:\n",
        "            max_tr_prob = V[t - 1] [states[0]] [\"prob\"] * trans_p[states[0]] [st]\n",
        "            prev_st_selected = states[0]\n",
        "            for prev_st in states[1:]:\n",
        "                tr_prob = V[t - 1] [prev_st] [\"prob\"] * trans_p[prev_st] [st]\n",
        "                if tr_prob > max_tr_prob:\n",
        "                    max_tr_prob = tr_prob\n",
        "                    prev_st_selected = prev_st\n",
        "\n",
        "            max_prob = max_tr_prob * emit_p[st] [obs[t]]\n",
        "            V[t] [st] = {\"prob\": max_prob, \"prev\": prev_st_selected}\n",
        "\n",
        "    for line in dptable(V):\n",
        "        print(line)\n",
        "\n",
        "    opt = []\n",
        "    max_prob = 0.0\n",
        "    best_st = None\n",
        "    # Get most probable state and its backtrack\n",
        "    for st, data in V[-1].items():\n",
        "        if data[\"prob\"] > max_prob:\n",
        "            max_prob = data[\"prob\"]\n",
        "            best_st = st\n",
        "    opt.append(best_st)\n",
        "    previous = best_st\n",
        "\n",
        "    # Follow the backtrack till the first observation\n",
        "    for t in range(len(V) - 2, -1, -1):\n",
        "        opt.insert(0, V[t + 1] [previous] [\"prev\"])\n",
        "        previous = V[t + 1] [previous] [\"prev\"]\n",
        "\n",
        "    print (\"The steps of states are \" + \" \".join(opt) + \" with highest probability of %s\" % max_prob)\n",
        "\n",
        "def dptable(V):\n",
        "    # Print a table of steps from dictionary\n",
        "    yield \" \" * 5 + \"     \".join((\"%3d\" % i) for i in range(len(V)))\n",
        "    for state in V[0]:\n",
        "        yield \"%.7s: \" % state + \" \".join(\"%.7s\" % (\"%lf\" % v[state] [\"prob\"]) for v in V)"
      ],
      "id": "igbK5AZ4y1V8"
    },
    {
      "cell_type": "code",
      "source": [
        "viterbi(obs,states,start_p,trans_p,emit_p)"
      ],
      "metadata": {
        "colab": {
          "base_uri": "https://localhost:8080/"
        },
        "id": "vy8KbdY4zapM",
        "outputId": "98324156-4479-486e-ad25-13c12688c9fb"
      },
      "execution_count": null,
      "outputs": [
        {
          "output_type": "stream",
          "name": "stdout",
          "text": [
            "       0       1       2\n",
            "Healthy: 0.30000 0.08400 0.00588\n",
            "Fever: 0.04000 0.02700 0.01512\n",
            "The steps of states are Healthy Healthy Fever with highest probability of 0.01512\n"
          ]
        }
      ],
      "id": "vy8KbdY4zapM"
    },
    {
      "cell_type": "code",
      "source": [],
      "metadata": {
        "id": "zw_TxWxrzbrM"
      },
      "execution_count": null,
      "outputs": [],
      "id": "zw_TxWxrzbrM"
    },
    {
      "cell_type": "markdown",
      "source": [
        "#Cosine similarity\n"
      ],
      "metadata": {
        "id": "O220ov8bzkAl"
      },
      "id": "O220ov8bzkAl"
    },
    {
      "cell_type": "code",
      "source": [
        "class Similarity:\n",
        "\n",
        "  def init_sim(self, graph):\n",
        "    nodes = graph.nodes\n",
        "    name_list = [node.name for node in nodes]\n",
        "    sim = []\n",
        "    for name1 in name_list:\n",
        "        temp_sim = []\n",
        "        for name2 in name_list:\n",
        "            if(name1 == name2):\n",
        "                temp_sim.append(1)\n",
        "            else:\n",
        "                temp_sim.append(0)\n",
        "        sim.append(temp_sim)\n",
        "\n",
        "    return name_list, sim\n",
        "    \n",
        "  def __init__(self, graph, decay_factor):\n",
        "        self.decay_factor = decay_factor\n",
        "        self.name_list, self.old_sim = self.init_sim(graph)\n",
        "        self.node_num = len(self.name_list)\n",
        "        self.new_sim = [[0] * self.node_num for i in range(self.node_num)]\n",
        "  def SimRank_one_iter(graph, sim):\n",
        "    for node1 in graph.nodes:\n",
        "        for node2 in graph.nodes:\n",
        "            new_SimRank = sim.calculate_SimRank(node1, node2)\n",
        "            sim.update_sim_value(node1, node2, new_SimRank)\n",
        "\n",
        "    sim.replace_sim()\n",
        "    \n",
        "\n",
        "    \n",
        "        \n"
      ],
      "metadata": {
        "id": "MchmIbeB5U_A"
      },
      "execution_count": null,
      "outputs": [],
      "id": "MchmIbeB5U_A"
    },
    {
      "cell_type": "markdown",
      "source": [
        "#Bayesian Network"
      ],
      "metadata": {
        "id": "yvnchtDht_Wg"
      },
      "id": "yvnchtDht_Wg"
    },
    {
      "cell_type": "code",
      "execution_count": null,
      "metadata": {
        "id": "mTW9ki6PxSgl"
      },
      "outputs": [],
      "source": [
        "from pgmpy.models import BayesianNetwork\n",
        "from pgmpy.factors.discrete import TabularCPD\n",
        "import networkx as nx\n",
        "import pylab as plt\n",
        " \n",
        "# Defining Bayesian Structure\n",
        "model = BayesianNetwork([('Guest', 'Host'), ('Price', 'Host')])\n",
        " \n",
        "# Defining the CPDs:\n",
        "cpd_guest = TabularCPD('Guest', 3, [[0.33], [0.33], [0.33]])\n",
        "cpd_price = TabularCPD('Price', 3, [[0.33], [0.33], [0.33]])\n",
        "cpd_host = TabularCPD('Host', 3, [[0, 0, 0, 0, 0.5, 1, 0, 1, 0.5],\n",
        "                            [0.5, 0, 1, 0, 0, 0, 1, 0, 0.5],\n",
        "                            [0.5, 1, 0, 1, 0.5, 0, 0, 0, 0]],\n",
        "                  evidence=['Guest', 'Price'], evidence_card=[3, 3])\n",
        " \n",
        "# Associating the CPDs with the network structure.\n",
        "model.add_cpds(cpd_guest, cpd_price, cpd_host)\n",
        "model.check_model()"
      ],
      "id": "mTW9ki6PxSgl"
    },
    {
      "cell_type": "code",
      "source": [
        "from pgmpy.inference import VariableElimination\n",
        " \n",
        "infer = VariableElimination(model)\n",
        "posterior_p = infer.query(['Host'], evidence={'Guest': 2, 'Price': 2})\n",
        "print(posterior_p)"
      ],
      "metadata": {
        "id": "SWsOSzm8zAn3"
      },
      "execution_count": null,
      "outputs": [],
      "id": "SWsOSzm8zAn3"
    },
    {
      "cell_type": "code",
      "source": [
        "import networkx as nx\n",
        "import matplotlib as plt\n",
        "nx.draw(model, with_labels=True)\n",
        "plt.pyplot.savefig('model.png')\n"
      ],
      "metadata": {
        "id": "KePu7SHBznv1"
      },
      "execution_count": null,
      "outputs": [],
      "id": "KePu7SHBznv1"
    },
    {
      "cell_type": "markdown",
      "source": [
        "#Girwan_newman"
      ],
      "metadata": {
        "id": "eNOzcEeeuliQ"
      },
      "id": "eNOzcEeeuliQ"
    },
    {
      "cell_type": "code",
      "execution_count": null,
      "metadata": {
        "id": "rdwSk8P1ushO"
      },
      "outputs": [],
      "source": [
        "import sys\n",
        "for line in sys.stdin:\n",
        "    # Setting some defaults\n",
        "    user_id = \"\"\n",
        "    product_id = \"-\"\n",
        "    location = \"-\"\n",
        "    line = line.strip()\n",
        "    splits = line.split(\"\\t\")\n",
        "    if len(splits) == 5: \n",
        "      # Transactions have more columns than users \n",
        "      user_id = splits[2]\n",
        "      product_id = splits[1]\n",
        "      print(user_id,product_id,location)\n",
        "    else:\n",
        "      user_id = splits[0]\n",
        "      location = splits[3] \n",
        "\n"
      ],
      "id": "rdwSk8P1ushO"
    },
    {
      "cell_type": "code",
      "source": [
        "import sys\n",
        "import string\n",
        "\n",
        "last_user_id = None\n",
        "cur_location = \"-\"\n",
        "\n",
        "for line in sys.stdin:\n",
        "    line = line.strip()\n",
        "    user_id,product_id,location = line.split(\"\\t\")\n",
        "\n",
        "    if not last_user_id or last_user_id != user_id:\n",
        "        last_user_id = user_id\n",
        "        cur_location = location\n",
        "    elif user_id == last_user_id:\n",
        "        location = cur_location\n",
        "        print(product_id,location)"
      ],
      "metadata": {
        "id": "znjlUyxCushP"
      },
      "execution_count": null,
      "outputs": [],
      "id": "znjlUyxCushP"
    },
    {
      "cell_type": "code",
      "source": [
        "import matplotlib.pyplot as plt\n",
        "import networkx as nx\n",
        "from networkx.algorithms.community.centrality import girvan_newman\n",
        " \n",
        "G = nx.karate_club_graph()\n",
        "communities = girvan_newman(G)\n",
        " \n",
        "node_groups = []\n",
        "for com in next(communities):\n",
        "  node_groups.append(list(com))\n",
        " \n",
        "print(node_groups)\n",
        " \n",
        "color_map = []\n",
        "for node in G:\n",
        "    if node in node_groups[0]:\n",
        "        color_map.append('blue')\n",
        "    else: \n",
        "        color_map.append('green')  \n",
        "nx.draw(G, node_color=color_map, with_labels=True)\n",
        "plt.show()\n",
        "print(G)\n"
      ],
      "metadata": {
        "colab": {
          "base_uri": "https://localhost:8080/",
          "height": 354
        },
        "outputId": "6f37be5e-4648-44ef-fd3c-fa421aa0847d",
        "id": "A5E311LtushP"
      },
      "execution_count": null,
      "outputs": [
        {
          "output_type": "stream",
          "name": "stdout",
          "text": [
            "[[0, 1, 3, 4, 5, 6, 7, 10, 11, 12, 13, 16, 17, 19, 21], [2, 8, 9, 14, 15, 18, 20, 22, 23, 24, 25, 26, 27, 28, 29, 30, 31, 32, 33]]\n"
          ]
        },
        {
          "output_type": "display_data",
          "data": {
            "text/plain": [
              "<Figure size 432x288 with 1 Axes>"
            ],
            "image/png": "[encoded data removed]"
          },
          "metadata": {}
        },
        {
          "output_type": "stream",
          "name": "stdout",
          "text": [
            "Graph named \"Zachary's Karate Club\" with 34 nodes and 78 edges\n"
          ]
        }
      ],
      "id": "A5E311LtushP"
    },
    {
      "cell_type": "code",
      "source": [
        "print(G)"
      ],
      "metadata": {
        "colab": {
          "base_uri": "https://localhost:8080/"
        },
        "outputId": "3cb7253a-a336-4efc-be99-758f165ecbb3",
        "id": "5bPDoAcmushQ"
      },
      "execution_count": null,
      "outputs": [
        {
          "output_type": "stream",
          "name": "stdout",
          "text": [
            "Graph named \"Zachary's Karate Club\" with 34 nodes and 78 edges\n"
          ]
        }
      ],
      "id": "5bPDoAcmushQ"
    },
    {
      "cell_type": "code",
      "source": [
        "import numpy as np\n",
        "import networkx as nx\n",
        "G = nx.karate_club_graph()\n",
        "\n",
        "\n",
        "sim = nx.simrank_similarity(G)\n",
        "np.array([[sim[u][v] for v in G] for u in G])\n",
        "sim_1d = nx.simrank_similarity(G, source=0)\n",
        "np.array([sim[0][v] for v in G])"
      ],
      "metadata": {
        "colab": {
          "base_uri": "https://localhost:8080/"
        },
        "outputId": "2cf1c2fb-1f57-450b-f1ae-3d1f036effa4",
        "id": "WOq5OslEushQ"
      },
      "execution_count": null,
      "outputs": [
        {
          "output_type": "execute_result",
          "data": {
            "text/plain": [
              "array([1.        , 0.32598544, 0.27460966, 0.31881012, 0.30465953,\n",
              "       0.29122402, 0.29122402, 0.29372493, 0.23713233, 0.24691124,\n",
              "       0.30465953, 0.25137153, 0.2883893 , 0.27472233, 0.19815335,\n",
              "       0.19815335, 0.32475649, 0.27719104, 0.19815335, 0.25103134,\n",
              "       0.19815335, 0.27719104, 0.19815335, 0.19883341, 0.2256308 ,\n",
              "       0.22313854, 0.19908176, 0.22118863, 0.25743537, 0.20017656,\n",
              "       0.25027785, 0.20810156, 0.23492645, 0.24082542])"
            ]
          },
          "metadata": {},
          "execution_count": 24
        }
      ],
      "id": "WOq5OslEushQ"
    },
    {
      "cell_type": "code",
      "source": [
        "from sklearn.cluster import SpectralClustering\n",
        "import numpy as np\n",
        "X = np.array([[1, 1], [2, 1], [1, 0],\n",
        "               [4, 7], [3, 5], [3, 6]])\n",
        "clustering = SpectralClustering(n_clusters=2,assign_labels='discretize',random_state=0).fit(X)\n",
        "clustering.labels_"
      ],
      "metadata": {
        "colab": {
          "base_uri": "https://localhost:8080/"
        },
        "outputId": "7189ea4e-f4bc-4465-e191-e9b29a6e1c51",
        "id": "bfPQ-qsoushQ"
      },
      "execution_count": null,
      "outputs": [
        {
          "output_type": "execute_result",
          "data": {
            "text/plain": [
              "array([1, 0, 1, 0, 0, 0])"
            ]
          },
          "metadata": {},
          "execution_count": 16
        }
      ],
      "id": "bfPQ-qsoushQ"
    },
    {
      "cell_type": "code",
      "source": [
        "import numpy as np \n",
        "import pandas as pd\n",
        "import seaborn as sns\n",
        "import matplotlib.pyplot as plt\n",
        "\n",
        "df = pd.read_csv(\"data.csv\", index_col='Date', parse_dates=['Date'])\n",
        "df.head()\n",
        "plt.plot(df1)\n",
        "df = df.fillna(method='ffill')\n",
        "plt.plt(df[\"close\"])\n",
        "normalised_df = df[\"Close\"].div(df[\"Close\"].iloc[0]).mul(100)\n",
        "plt.show()\n",
        "from sklearn.preprocessing import MinMaxScaler\n",
        "scaler=MinMaxScaler(feature_range=(0,1))\n",
        "df1=scaler.fit_transform(np.array(df1).reshape(-1,1))\n",
        "\n",
        "from sklearn.linear_model import LinearRegression\n",
        "\n",
        "# Training data\n",
        "X = df.loc[:, ['x_colums']]  # features\n",
        "y = df.[\"y_column\"]  # target\n",
        "\n",
        "# Train the model\n",
        "model = LinearRegression()\n",
        "model.fit(X, y)\n",
        "\n",
        "# Store the fitted values as a time series with the same time index as\n",
        "# the training data\n",
        "y_pred = pd.Series(model.predict(X), index=X.index)\n"
      ],
      "metadata": {
        "colab": {
          "base_uri": "https://localhost:8080/",
          "height": 130
        },
        "outputId": "ae09f184-0846-49a7-9cd0-58f40a4d5ca1",
        "id": "xpHp3SBwushQ"
      },
      "execution_count": null,
      "outputs": [
        {
          "output_type": "error",
          "ename": "SyntaxError",
          "evalue": "ignored",
          "traceback": [
            "\u001b[0;36m  File \u001b[0;32m\"<ipython-input-31-021107f6f59c>\"\u001b[0;36m, line \u001b[0;32m21\u001b[0m\n\u001b[0;31m    y = df.[\"y_column\"]  # target\u001b[0m\n\u001b[0m           ^\u001b[0m\n\u001b[0;31mSyntaxError\u001b[0m\u001b[0;31m:\u001b[0m invalid syntax\n"
          ]
        }
      ],
      "id": "xpHp3SBwushQ"
    },
    {
      "cell_type": "code",
      "source": [
        "from hmmlearn import base, hmm  \n",
        "from matplotlib import pyplot   \n",
        "import numpy                   \n",
        "from math import *             \n",
        " \n",
        "model = hmm.MultinomialHMM(n_components=3)  #Create a HMM with 3 internal states\n",
        "model.n_features = 2  # Number of observed states\n",
        "model.startprob_ = numpy.array([.350, .375, .275])\n",
        "model.transmat_ = numpy.array([ [.6, .3, .1], [.3, .5, .2], [.1, .3, .6]])\n",
        "model.emissionprob_ = numpy.array([ [.5, .5], [.2, .8], [.1, .9]])\n",
        "print(model.startprob_)\n",
        "print(model.transmat_)\n",
        "print(model.emissionprob_)\n",
        " \n",
        " \n",
        "observations = 'ININNINNNN'\n",
        "# Convert observations to a column vector of 0's and 1's\n",
        "obsSequence = numpy.array([ ['IN'.find(c)] for c in observations ])\n",
        "\n",
        "obsSequence"
      ],
      "metadata": {
        "colab": {
          "base_uri": "https://localhost:8080/"
        },
        "outputId": "1eb30559-cc7a-4446-fc8a-6a8bb8b0ab84",
        "id": "Rvoq0R9WushR"
      },
      "execution_count": null,
      "outputs": [
        {
          "output_type": "stream",
          "name": "stdout",
          "text": [
            "[0.35  0.375 0.275]\n",
            "[[0.6 0.3 0.1]\n",
            " [0.3 0.5 0.2]\n",
            " [0.1 0.3 0.6]]\n",
            "[[0.5 0.5]\n",
            " [0.2 0.8]\n",
            " [0.1 0.9]]\n"
          ]
        },
        {
          "output_type": "execute_result",
          "data": {
            "text/plain": [
              "array([[0],\n",
              "       [1],\n",
              "       [0],\n",
              "       [1],\n",
              "       [1],\n",
              "       [0],\n",
              "       [1],\n",
              "       [1],\n",
              "       [1],\n",
              "       [1]])"
            ]
          },
          "metadata": {},
          "execution_count": 35
        }
      ],
      "id": "Rvoq0R9WushR"
    },
    {
      "cell_type": "code",
      "source": [
        "pip install hmmlearn"
      ],
      "metadata": {
        "colab": {
          "base_uri": "https://localhost:8080/"
        },
        "outputId": "bc195a06-7288-4faf-b482-9b7f9a3dcdd2",
        "id": "M0Sbb4wOushR"
      },
      "execution_count": null,
      "outputs": [
        {
          "output_type": "stream",
          "name": "stdout",
          "text": [
            "Looking in indexes: https://pypi.org/simple, https://us-python.pkg.dev/colab-wheels/public/simple/\n",
            "Collecting hmmlearn\n",
            "  Downloading hmmlearn-0.2.7-cp37-cp37m-manylinux_2_12_x86_64.manylinux2010_x86_64.whl (129 kB)\n",
            "\u001b[K     |████████████████████████████████| 129 kB 17.5 MB/s \n",
            "\u001b[?25hRequirement already satisfied: scikit-learn>=0.16 in /usr/local/lib/python3.7/dist-packages (from hmmlearn) (1.0.2)\n",
            "Requirement already satisfied: numpy>=1.10 in /usr/local/lib/python3.7/dist-packages (from hmmlearn) (1.21.6)\n",
            "Requirement already satisfied: scipy>=0.19 in /usr/local/lib/python3.7/dist-packages (from hmmlearn) (1.4.1)\n",
            "Requirement already satisfied: joblib>=0.11 in /usr/local/lib/python3.7/dist-packages (from scikit-learn>=0.16->hmmlearn) (1.1.0)\n",
            "Requirement already satisfied: threadpoolctl>=2.0.0 in /usr/local/lib/python3.7/dist-packages (from scikit-learn>=0.16->hmmlearn) (3.1.0)\n",
            "Installing collected packages: hmmlearn\n",
            "Successfully installed hmmlearn-0.2.7\n"
          ]
        }
      ],
      "id": "M0Sbb4wOushR"
    },
    {
      "cell_type": "code",
      "source": [
        "import sys\n",
        "for line in sys.stdin:\n",
        "  line=line.strip()\n",
        "  words=line.split()\n",
        "  for word in words:\n",
        "    print ('%s\\t%s' % (word,1))"
      ],
      "metadata": {
        "id": "2ZrvAxBSushR"
      },
      "execution_count": null,
      "outputs": [],
      "id": "2ZrvAxBSushR"
    },
    {
      "cell_type": "code",
      "source": [
        "print(sys.stdin)"
      ],
      "metadata": {
        "colab": {
          "base_uri": "https://localhost:8080/"
        },
        "outputId": "2f31a1e8-7948-4ad5-a7e2-f444fe491750",
        "id": "b1grAHYzushR"
      },
      "execution_count": null,
      "outputs": [
        {
          "output_type": "stream",
          "name": "stdout",
          "text": [
            "<_io.TextIOWrapper name='<stdin>' mode='r' encoding='UTF-8'>\n"
          ]
        }
      ],
      "id": "b1grAHYzushR"
    },
    {
      "cell_type": "code",
      "source": [],
      "metadata": {
        "id": "0hA9Xe6HushR"
      },
      "execution_count": null,
      "outputs": [],
      "id": "0hA9Xe6HushR"
    }
  ],
  "metadata": {
    "kernelspec": {
      "display_name": "Python 3",
      "language": "python",
      "name": "python3"
    },
    "language_info": {
      "codemirror_mode": {
        "name": "ipython",
        "version": 3
      },
      "file_extension": ".py",
      "mimetype": "text/x-python",
      "name": "python",
      "nbconvert_exporter": "python",
      "pygments_lexer": "ipython3",
      "version": "3.8.8"
    },
    "colab": {
      "name": "Snippets.ipynb",
      "provenance": []
    }
  },
  "nbformat": 4,
  "nbformat_minor": 5
}